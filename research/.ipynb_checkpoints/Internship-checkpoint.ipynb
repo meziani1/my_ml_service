{
 "cells": [
  {
   "cell_type": "code",
   "execution_count": 8,
   "id": "1a0fb6b1",
   "metadata": {},
   "outputs": [],
   "source": [
    "#I begin by importing main labrairis mainly lstm , bidirectional and numpy , pandas\n",
    "import numpy as np \n",
    "import pandas as pd \n",
    "import seaborn as sns #Heatmap\n",
    "import matplotlib.pyplot as plt \n",
    "from sklearn.preprocessing import StandardScaler\n",
    "from pandas import DataFrame\n",
    "from sklearn.cluster import KMeans \n",
    "import xgboost\n",
    "from sklearn.model_selection import train_test_split , cross_val_score, KFold\n",
    "from sklearn.model_selection import GridSearchCV, RandomizedSearchCV , RepeatedStratifiedKFold \n",
    "from sklearn.metrics import roc_auc_score\n",
    "from sklearn.ensemble import GradientBoostingClassifier\n",
    "from numpy import mean , std\n",
    "from sklearn.ensemble import GradientBoostingClassifier\n",
    "import joblib"
   ]
  },
  {
   "cell_type": "code",
   "execution_count": null,
   "id": "0b9df1aa",
   "metadata": {},
   "outputs": [],
   "source": []
  }
 ],
 "metadata": {
  "kernelspec": {
   "display_name": "Python 3 (ipykernel)",
   "language": "python",
   "name": "python3"
  },
  "language_info": {
   "codemirror_mode": {
    "name": "ipython",
    "version": 3
   },
   "file_extension": ".py",
   "mimetype": "text/x-python",
   "name": "python",
   "nbconvert_exporter": "python",
   "pygments_lexer": "ipython3",
   "version": "3.10.7"
  }
 },
 "nbformat": 4,
 "nbformat_minor": 5
}
