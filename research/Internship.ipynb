{
 "cells": [
  {
   "cell_type": "code",
   "execution_count": 8,
   "id": "1a0fb6b1",
   "metadata": {},
   "outputs": [],
   "source": [
    "#I begin by importing main labrairis mainly lstm , bidirectional and numpy , pandas\n",
    "import numpy as np \n",
    "import pandas as pd \n",
    "import seaborn as sns #Heatmap\n",
    "import matplotlib.pyplot as plt \n",
    "from sklearn.preprocessing import StandardScaler\n",
    "from pandas import DataFrame\n",
    "from sklearn.cluster import KMeans \n",
    "import xgboost\n",
    "from sklearn.model_selection import train_test_split , cross_val_score, KFold\n",
    "from sklearn.model_selection import GridSearchCV, RandomizedSearchCV , RepeatedStratifiedKFold \n",
    "from sklearn.metrics import roc_auc_score\n",
    "from sklearn.ensemble import GradientBoostingClassifier\n",
    "from numpy import mean , std\n",
    "from sklearn.ensemble import GradientBoostingClassifier\n",
    "import joblib"
   ]
  },
  {
   "cell_type": "code",
   "execution_count": 9,
   "id": "2f9811e9",
   "metadata": {},
   "outputs": [],
   "source": [
    "#and then i read my structured data which i had already handled\n",
    "X =pd.read_csv(r'C:\\Users\\admin\\Desktop\\Datadet_projet2\\track_features\\X.csv')\n",
    "y =pd.read_csv(r'C:\\Users\\admin\\Desktop\\Datadet_projet2\\track_features\\y.csv')"
   ]
  },
  {
   "cell_type": "code",
   "execution_count": 10,
   "id": "d656b2d2",
   "metadata": {},
   "outputs": [
    {
     "data": {
      "text/plain": [
       "(66993, 11)"
      ]
     },
     "execution_count": 10,
     "metadata": {},
     "output_type": "execute_result"
    }
   ],
   "source": [
    "X.shape"
   ]
  },
  {
   "cell_type": "code",
   "execution_count": 11,
   "id": "0ebf0975",
   "metadata": {},
   "outputs": [
    {
     "data": {
      "text/html": [
       "<div>\n",
       "<style scoped>\n",
       "    .dataframe tbody tr th:only-of-type {\n",
       "        vertical-align: middle;\n",
       "    }\n",
       "\n",
       "    .dataframe tbody tr th {\n",
       "        vertical-align: top;\n",
       "    }\n",
       "\n",
       "    .dataframe thead th {\n",
       "        text-align: right;\n",
       "    }\n",
       "</style>\n",
       "<table border=\"1\" class=\"dataframe\">\n",
       "  <thead>\n",
       "    <tr style=\"text-align: right;\">\n",
       "      <th></th>\n",
       "      <th>skipped</th>\n",
       "    </tr>\n",
       "  </thead>\n",
       "  <tbody>\n",
       "    <tr>\n",
       "      <th>0</th>\n",
       "      <td>0</td>\n",
       "    </tr>\n",
       "    <tr>\n",
       "      <th>1</th>\n",
       "      <td>0</td>\n",
       "    </tr>\n",
       "    <tr>\n",
       "      <th>2</th>\n",
       "      <td>0</td>\n",
       "    </tr>\n",
       "    <tr>\n",
       "      <th>3</th>\n",
       "      <td>0</td>\n",
       "    </tr>\n",
       "    <tr>\n",
       "      <th>4</th>\n",
       "      <td>0</td>\n",
       "    </tr>\n",
       "  </tbody>\n",
       "</table>\n",
       "</div>"
      ],
      "text/plain": [
       "   skipped\n",
       "0        0\n",
       "1        0\n",
       "2        0\n",
       "3        0\n",
       "4        0"
      ]
     },
     "execution_count": 11,
     "metadata": {},
     "output_type": "execute_result"
    }
   ],
   "source": [
    "y = y.drop(['Unnamed: 0'], axis=1) \n",
    "y.head()"
   ]
  },
  {
   "cell_type": "code",
   "execution_count": 12,
   "id": "9dd74bd6",
   "metadata": {},
   "outputs": [
    {
     "data": {
      "text/html": [
       "<div>\n",
       "<style scoped>\n",
       "    .dataframe tbody tr th:only-of-type {\n",
       "        vertical-align: middle;\n",
       "    }\n",
       "\n",
       "    .dataframe tbody tr th {\n",
       "        vertical-align: top;\n",
       "    }\n",
       "\n",
       "    .dataframe thead th {\n",
       "        text-align: right;\n",
       "    }\n",
       "</style>\n",
       "<table border=\"1\" class=\"dataframe\">\n",
       "  <thead>\n",
       "    <tr style=\"text-align: right;\">\n",
       "      <th></th>\n",
       "      <th>not_skipped</th>\n",
       "      <th>no_pause_before_play</th>\n",
       "      <th>context_type_user_collection</th>\n",
       "      <th>hist_user_behavior_reason_start_fwdbtn</th>\n",
       "      <th>hist_user_behavior_reason_start_trackdone</th>\n",
       "      <th>hist_user_behavior_reason_end_backbtn</th>\n",
       "      <th>hist_user_behavior_reason_end_fwdbtn</th>\n",
       "      <th>hist_user_behavior_reason_end_trackdone</th>\n",
       "      <th>mode_0</th>\n",
       "      <th>week_day_Monday</th>\n",
       "    </tr>\n",
       "    <tr>\n",
       "      <th>session_id</th>\n",
       "      <th></th>\n",
       "      <th></th>\n",
       "      <th></th>\n",
       "      <th></th>\n",
       "      <th></th>\n",
       "      <th></th>\n",
       "      <th></th>\n",
       "      <th></th>\n",
       "      <th></th>\n",
       "      <th></th>\n",
       "    </tr>\n",
       "  </thead>\n",
       "  <tbody>\n",
       "    <tr>\n",
       "      <th>0_00006f66-33e5-4de7-a324-2d18e439fc1e</th>\n",
       "      <td>0</td>\n",
       "      <td>0</td>\n",
       "      <td>0.0</td>\n",
       "      <td>0.0</td>\n",
       "      <td>1.0</td>\n",
       "      <td>0.0</td>\n",
       "      <td>0.0</td>\n",
       "      <td>1.0</td>\n",
       "      <td>1.0</td>\n",
       "      <td>0.0</td>\n",
       "    </tr>\n",
       "    <tr>\n",
       "      <th>0_00006f66-33e5-4de7-a324-2d18e439fc1e</th>\n",
       "      <td>0</td>\n",
       "      <td>1</td>\n",
       "      <td>0.0</td>\n",
       "      <td>0.0</td>\n",
       "      <td>1.0</td>\n",
       "      <td>0.0</td>\n",
       "      <td>0.0</td>\n",
       "      <td>1.0</td>\n",
       "      <td>1.0</td>\n",
       "      <td>0.0</td>\n",
       "    </tr>\n",
       "    <tr>\n",
       "      <th>0_00006f66-33e5-4de7-a324-2d18e439fc1e</th>\n",
       "      <td>0</td>\n",
       "      <td>1</td>\n",
       "      <td>0.0</td>\n",
       "      <td>0.0</td>\n",
       "      <td>1.0</td>\n",
       "      <td>0.0</td>\n",
       "      <td>0.0</td>\n",
       "      <td>1.0</td>\n",
       "      <td>1.0</td>\n",
       "      <td>0.0</td>\n",
       "    </tr>\n",
       "    <tr>\n",
       "      <th>0_00006f66-33e5-4de7-a324-2d18e439fc1e</th>\n",
       "      <td>0</td>\n",
       "      <td>1</td>\n",
       "      <td>0.0</td>\n",
       "      <td>0.0</td>\n",
       "      <td>1.0</td>\n",
       "      <td>0.0</td>\n",
       "      <td>0.0</td>\n",
       "      <td>1.0</td>\n",
       "      <td>1.0</td>\n",
       "      <td>0.0</td>\n",
       "    </tr>\n",
       "    <tr>\n",
       "      <th>0_00006f66-33e5-4de7-a324-2d18e439fc1e</th>\n",
       "      <td>0</td>\n",
       "      <td>1</td>\n",
       "      <td>0.0</td>\n",
       "      <td>0.0</td>\n",
       "      <td>1.0</td>\n",
       "      <td>0.0</td>\n",
       "      <td>0.0</td>\n",
       "      <td>1.0</td>\n",
       "      <td>1.0</td>\n",
       "      <td>0.0</td>\n",
       "    </tr>\n",
       "  </tbody>\n",
       "</table>\n",
       "</div>"
      ],
      "text/plain": [
       "                                        not_skipped  no_pause_before_play  \\\n",
       "session_id                                                                  \n",
       "0_00006f66-33e5-4de7-a324-2d18e439fc1e            0                     0   \n",
       "0_00006f66-33e5-4de7-a324-2d18e439fc1e            0                     1   \n",
       "0_00006f66-33e5-4de7-a324-2d18e439fc1e            0                     1   \n",
       "0_00006f66-33e5-4de7-a324-2d18e439fc1e            0                     1   \n",
       "0_00006f66-33e5-4de7-a324-2d18e439fc1e            0                     1   \n",
       "\n",
       "                                        context_type_user_collection  \\\n",
       "session_id                                                             \n",
       "0_00006f66-33e5-4de7-a324-2d18e439fc1e                           0.0   \n",
       "0_00006f66-33e5-4de7-a324-2d18e439fc1e                           0.0   \n",
       "0_00006f66-33e5-4de7-a324-2d18e439fc1e                           0.0   \n",
       "0_00006f66-33e5-4de7-a324-2d18e439fc1e                           0.0   \n",
       "0_00006f66-33e5-4de7-a324-2d18e439fc1e                           0.0   \n",
       "\n",
       "                                        hist_user_behavior_reason_start_fwdbtn  \\\n",
       "session_id                                                                       \n",
       "0_00006f66-33e5-4de7-a324-2d18e439fc1e                                     0.0   \n",
       "0_00006f66-33e5-4de7-a324-2d18e439fc1e                                     0.0   \n",
       "0_00006f66-33e5-4de7-a324-2d18e439fc1e                                     0.0   \n",
       "0_00006f66-33e5-4de7-a324-2d18e439fc1e                                     0.0   \n",
       "0_00006f66-33e5-4de7-a324-2d18e439fc1e                                     0.0   \n",
       "\n",
       "                                        hist_user_behavior_reason_start_trackdone  \\\n",
       "session_id                                                                          \n",
       "0_00006f66-33e5-4de7-a324-2d18e439fc1e                                        1.0   \n",
       "0_00006f66-33e5-4de7-a324-2d18e439fc1e                                        1.0   \n",
       "0_00006f66-33e5-4de7-a324-2d18e439fc1e                                        1.0   \n",
       "0_00006f66-33e5-4de7-a324-2d18e439fc1e                                        1.0   \n",
       "0_00006f66-33e5-4de7-a324-2d18e439fc1e                                        1.0   \n",
       "\n",
       "                                        hist_user_behavior_reason_end_backbtn  \\\n",
       "session_id                                                                      \n",
       "0_00006f66-33e5-4de7-a324-2d18e439fc1e                                    0.0   \n",
       "0_00006f66-33e5-4de7-a324-2d18e439fc1e                                    0.0   \n",
       "0_00006f66-33e5-4de7-a324-2d18e439fc1e                                    0.0   \n",
       "0_00006f66-33e5-4de7-a324-2d18e439fc1e                                    0.0   \n",
       "0_00006f66-33e5-4de7-a324-2d18e439fc1e                                    0.0   \n",
       "\n",
       "                                        hist_user_behavior_reason_end_fwdbtn  \\\n",
       "session_id                                                                     \n",
       "0_00006f66-33e5-4de7-a324-2d18e439fc1e                                   0.0   \n",
       "0_00006f66-33e5-4de7-a324-2d18e439fc1e                                   0.0   \n",
       "0_00006f66-33e5-4de7-a324-2d18e439fc1e                                   0.0   \n",
       "0_00006f66-33e5-4de7-a324-2d18e439fc1e                                   0.0   \n",
       "0_00006f66-33e5-4de7-a324-2d18e439fc1e                                   0.0   \n",
       "\n",
       "                                        hist_user_behavior_reason_end_trackdone  \\\n",
       "session_id                                                                        \n",
       "0_00006f66-33e5-4de7-a324-2d18e439fc1e                                      1.0   \n",
       "0_00006f66-33e5-4de7-a324-2d18e439fc1e                                      1.0   \n",
       "0_00006f66-33e5-4de7-a324-2d18e439fc1e                                      1.0   \n",
       "0_00006f66-33e5-4de7-a324-2d18e439fc1e                                      1.0   \n",
       "0_00006f66-33e5-4de7-a324-2d18e439fc1e                                      1.0   \n",
       "\n",
       "                                        mode_0  week_day_Monday  \n",
       "session_id                                                       \n",
       "0_00006f66-33e5-4de7-a324-2d18e439fc1e     1.0              0.0  \n",
       "0_00006f66-33e5-4de7-a324-2d18e439fc1e     1.0              0.0  \n",
       "0_00006f66-33e5-4de7-a324-2d18e439fc1e     1.0              0.0  \n",
       "0_00006f66-33e5-4de7-a324-2d18e439fc1e     1.0              0.0  \n",
       "0_00006f66-33e5-4de7-a324-2d18e439fc1e     1.0              0.0  "
      ]
     },
     "execution_count": 12,
     "metadata": {},
     "output_type": "execute_result"
    }
   ],
   "source": [
    "#Set the index to become the ‘session_id’ column:\n",
    "X=X.set_index('session_id')\n",
    "X.head()"
   ]
  },
  {
   "cell_type": "code",
   "execution_count": 13,
   "id": "470bcb26",
   "metadata": {},
   "outputs": [],
   "source": [
    "X_train, X_valid, y_train, y_valid = train_test_split(X, y, test_size=0.2)"
   ]
  },
  {
   "cell_type": "code",
   "execution_count": 15,
   "id": "a6c06551",
   "metadata": {},
   "outputs": [
    {
     "name": "stdout",
     "output_type": "stream",
     "text": [
      "[0]\tvalidation_0-auc:0.82482\tvalidation_1-auc:0.82257\n",
      "[1]\tvalidation_0-auc:0.92324\tvalidation_1-auc:0.92351\n",
      "[2]\tvalidation_0-auc:0.91024\tvalidation_1-auc:0.91016\n",
      "[3]\tvalidation_0-auc:0.92314\tvalidation_1-auc:0.92250\n",
      "[4]\tvalidation_0-auc:0.92638\tvalidation_1-auc:0.92624\n",
      "[5]\tvalidation_0-auc:0.92434\tvalidation_1-auc:0.92471\n",
      "[6]\tvalidation_0-auc:0.93101\tvalidation_1-auc:0.93088\n",
      "[7]\tvalidation_0-auc:0.93343\tvalidation_1-auc:0.93309\n",
      "[8]\tvalidation_0-auc:0.93067\tvalidation_1-auc:0.93037\n"
     ]
    },
    {
     "name": "stderr",
     "output_type": "stream",
     "text": [
      "C:\\Users\\admin\\my_ml_service\\.venv\\lib\\site-packages\\xgboost\\sklearn.py:793: UserWarning: `early_stopping_rounds` in `fit` method is deprecated for better compatibility with scikit-learn, use `early_stopping_rounds` in constructor or`set_params` instead.\n",
      "  warnings.warn(\n"
     ]
    },
    {
     "name": "stdout",
     "output_type": "stream",
     "text": [
      "[9]\tvalidation_0-auc:0.93062\tvalidation_1-auc:0.93031\n",
      "[10]\tvalidation_0-auc:0.93188\tvalidation_1-auc:0.93168\n",
      "[11]\tvalidation_0-auc:0.93231\tvalidation_1-auc:0.93204\n",
      "[12]\tvalidation_0-auc:0.93365\tvalidation_1-auc:0.93335\n",
      "[13]\tvalidation_0-auc:0.93347\tvalidation_1-auc:0.93315\n",
      "[14]\tvalidation_0-auc:0.93363\tvalidation_1-auc:0.93336\n",
      "[15]\tvalidation_0-auc:0.93345\tvalidation_1-auc:0.93325\n",
      "[16]\tvalidation_0-auc:0.93346\tvalidation_1-auc:0.93324\n",
      "[17]\tvalidation_0-auc:0.93336\tvalidation_1-auc:0.93312\n",
      "[18]\tvalidation_0-auc:0.93150\tvalidation_1-auc:0.93131\n",
      "[19]\tvalidation_0-auc:0.93234\tvalidation_1-auc:0.93203\n",
      "[20]\tvalidation_0-auc:0.93290\tvalidation_1-auc:0.93259\n",
      "[21]\tvalidation_0-auc:0.93354\tvalidation_1-auc:0.93318\n",
      "[22]\tvalidation_0-auc:0.93383\tvalidation_1-auc:0.93331\n",
      "[23]\tvalidation_0-auc:0.93331\tvalidation_1-auc:0.93284\n",
      "[24]\tvalidation_0-auc:0.93381\tvalidation_1-auc:0.93332\n",
      "[25]\tvalidation_0-auc:0.93379\tvalidation_1-auc:0.93331\n",
      "[26]\tvalidation_0-auc:0.93422\tvalidation_1-auc:0.93370\n",
      "[27]\tvalidation_0-auc:0.93422\tvalidation_1-auc:0.93370\n",
      "[28]\tvalidation_0-auc:0.93364\tvalidation_1-auc:0.93326\n",
      "[29]\tvalidation_0-auc:0.93370\tvalidation_1-auc:0.93331\n",
      "[30]\tvalidation_0-auc:0.93352\tvalidation_1-auc:0.93316\n",
      "[31]\tvalidation_0-auc:0.93331\tvalidation_1-auc:0.93288\n",
      "[32]\tvalidation_0-auc:0.93328\tvalidation_1-auc:0.93285\n",
      "[33]\tvalidation_0-auc:0.93233\tvalidation_1-auc:0.93194\n",
      "[34]\tvalidation_0-auc:0.93245\tvalidation_1-auc:0.93206\n",
      "[35]\tvalidation_0-auc:0.93244\tvalidation_1-auc:0.93204\n",
      "[36]\tvalidation_0-auc:0.93310\tvalidation_1-auc:0.93262\n",
      "[37]\tvalidation_0-auc:0.93303\tvalidation_1-auc:0.93256\n",
      "[38]\tvalidation_0-auc:0.93419\tvalidation_1-auc:0.93365\n",
      "[39]\tvalidation_0-auc:0.93337\tvalidation_1-auc:0.93275\n",
      "[40]\tvalidation_0-auc:0.93338\tvalidation_1-auc:0.93276\n",
      "[41]\tvalidation_0-auc:0.93343\tvalidation_1-auc:0.93281\n",
      "[42]\tvalidation_0-auc:0.93345\tvalidation_1-auc:0.93284\n",
      "[43]\tvalidation_0-auc:0.93347\tvalidation_1-auc:0.93290\n",
      "[44]\tvalidation_0-auc:0.93398\tvalidation_1-auc:0.93342\n",
      "[45]\tvalidation_0-auc:0.93380\tvalidation_1-auc:0.93323\n"
     ]
    },
    {
     "data": {
      "text/html": [
       "<style>#sk-container-id-1 {color: black;background-color: white;}#sk-container-id-1 pre{padding: 0;}#sk-container-id-1 div.sk-toggleable {background-color: white;}#sk-container-id-1 label.sk-toggleable__label {cursor: pointer;display: block;width: 100%;margin-bottom: 0;padding: 0.3em;box-sizing: border-box;text-align: center;}#sk-container-id-1 label.sk-toggleable__label-arrow:before {content: \"▸\";float: left;margin-right: 0.25em;color: #696969;}#sk-container-id-1 label.sk-toggleable__label-arrow:hover:before {color: black;}#sk-container-id-1 div.sk-estimator:hover label.sk-toggleable__label-arrow:before {color: black;}#sk-container-id-1 div.sk-toggleable__content {max-height: 0;max-width: 0;overflow: hidden;text-align: left;background-color: #f0f8ff;}#sk-container-id-1 div.sk-toggleable__content pre {margin: 0.2em;color: black;border-radius: 0.25em;background-color: #f0f8ff;}#sk-container-id-1 input.sk-toggleable__control:checked~div.sk-toggleable__content {max-height: 200px;max-width: 100%;overflow: auto;}#sk-container-id-1 input.sk-toggleable__control:checked~label.sk-toggleable__label-arrow:before {content: \"▾\";}#sk-container-id-1 div.sk-estimator input.sk-toggleable__control:checked~label.sk-toggleable__label {background-color: #d4ebff;}#sk-container-id-1 div.sk-label input.sk-toggleable__control:checked~label.sk-toggleable__label {background-color: #d4ebff;}#sk-container-id-1 input.sk-hidden--visually {border: 0;clip: rect(1px 1px 1px 1px);clip: rect(1px, 1px, 1px, 1px);height: 1px;margin: -1px;overflow: hidden;padding: 0;position: absolute;width: 1px;}#sk-container-id-1 div.sk-estimator {font-family: monospace;background-color: #f0f8ff;border: 1px dotted black;border-radius: 0.25em;box-sizing: border-box;margin-bottom: 0.5em;}#sk-container-id-1 div.sk-estimator:hover {background-color: #d4ebff;}#sk-container-id-1 div.sk-parallel-item::after {content: \"\";width: 100%;border-bottom: 1px solid gray;flex-grow: 1;}#sk-container-id-1 div.sk-label:hover label.sk-toggleable__label {background-color: #d4ebff;}#sk-container-id-1 div.sk-serial::before {content: \"\";position: absolute;border-left: 1px solid gray;box-sizing: border-box;top: 0;bottom: 0;left: 50%;z-index: 0;}#sk-container-id-1 div.sk-serial {display: flex;flex-direction: column;align-items: center;background-color: white;padding-right: 0.2em;padding-left: 0.2em;position: relative;}#sk-container-id-1 div.sk-item {position: relative;z-index: 1;}#sk-container-id-1 div.sk-parallel {display: flex;align-items: stretch;justify-content: center;background-color: white;position: relative;}#sk-container-id-1 div.sk-item::before, #sk-container-id-1 div.sk-parallel-item::before {content: \"\";position: absolute;border-left: 1px solid gray;box-sizing: border-box;top: 0;bottom: 0;left: 50%;z-index: -1;}#sk-container-id-1 div.sk-parallel-item {display: flex;flex-direction: column;z-index: 1;position: relative;background-color: white;}#sk-container-id-1 div.sk-parallel-item:first-child::after {align-self: flex-end;width: 50%;}#sk-container-id-1 div.sk-parallel-item:last-child::after {align-self: flex-start;width: 50%;}#sk-container-id-1 div.sk-parallel-item:only-child::after {width: 0;}#sk-container-id-1 div.sk-dashed-wrapped {border: 1px dashed gray;margin: 0 0.4em 0.5em 0.4em;box-sizing: border-box;padding-bottom: 0.4em;background-color: white;}#sk-container-id-1 div.sk-label label {font-family: monospace;font-weight: bold;display: inline-block;line-height: 1.2em;}#sk-container-id-1 div.sk-label-container {text-align: center;}#sk-container-id-1 div.sk-container {/* jupyter's `normalize.less` sets `[hidden] { display: none; }` but bootstrap.min.css set `[hidden] { display: none !important; }` so we also need the `!important` here to be able to override the default hidden behavior on the sphinx rendered scikit-learn.org. See: https://github.com/scikit-learn/scikit-learn/issues/21755 */display: inline-block !important;position: relative;}#sk-container-id-1 div.sk-text-repr-fallback {display: none;}</style><div id=\"sk-container-id-1\" class=\"sk-top-container\"><div class=\"sk-text-repr-fallback\"><pre>XGBClassifier(base_score=0.5, booster=&#x27;gbtree&#x27;, callbacks=None,\n",
       "              colsample_bylevel=1, colsample_bynode=1, colsample_bytree=0.25,\n",
       "              early_stopping_rounds=None, enable_categorical=False,\n",
       "              eval_metric=&#x27;auc&#x27;, gamma=0, gpu_id=-1, grow_policy=&#x27;depthwise&#x27;,\n",
       "              importance_type=None, interaction_constraints=&#x27;&#x27;,\n",
       "              learning_rate=0.02, max_bin=256, max_cat_to_onehot=4,\n",
       "              max_delta_step=0, max_depth=2, max_leaves=0, min_child_weight=1,\n",
       "              missing=nan, monotone_constraints=&#x27;()&#x27;, n_estimators=1000,\n",
       "              n_jobs=0, num_parallel_tree=1, predictor=&#x27;auto&#x27;, random_state=0,\n",
       "              reg_alpha=0, reg_lambda=1, ...)</pre><b>In a Jupyter environment, please rerun this cell to show the HTML representation or trust the notebook. <br />On GitHub, the HTML representation is unable to render, please try loading this page with nbviewer.org.</b></div><div class=\"sk-container\" hidden><div class=\"sk-item\"><div class=\"sk-estimator sk-toggleable\"><input class=\"sk-toggleable__control sk-hidden--visually\" id=\"sk-estimator-id-1\" type=\"checkbox\" checked><label for=\"sk-estimator-id-1\" class=\"sk-toggleable__label sk-toggleable__label-arrow\">XGBClassifier</label><div class=\"sk-toggleable__content\"><pre>XGBClassifier(base_score=0.5, booster=&#x27;gbtree&#x27;, callbacks=None,\n",
       "              colsample_bylevel=1, colsample_bynode=1, colsample_bytree=0.25,\n",
       "              early_stopping_rounds=None, enable_categorical=False,\n",
       "              eval_metric=&#x27;auc&#x27;, gamma=0, gpu_id=-1, grow_policy=&#x27;depthwise&#x27;,\n",
       "              importance_type=None, interaction_constraints=&#x27;&#x27;,\n",
       "              learning_rate=0.02, max_bin=256, max_cat_to_onehot=4,\n",
       "              max_delta_step=0, max_depth=2, max_leaves=0, min_child_weight=1,\n",
       "              missing=nan, monotone_constraints=&#x27;()&#x27;, n_estimators=1000,\n",
       "              n_jobs=0, num_parallel_tree=1, predictor=&#x27;auto&#x27;, random_state=0,\n",
       "              reg_alpha=0, reg_lambda=1, ...)</pre></div></div></div></div></div>"
      ],
      "text/plain": [
       "XGBClassifier(base_score=0.5, booster='gbtree', callbacks=None,\n",
       "              colsample_bylevel=1, colsample_bynode=1, colsample_bytree=0.25,\n",
       "              early_stopping_rounds=None, enable_categorical=False,\n",
       "              eval_metric='auc', gamma=0, gpu_id=-1, grow_policy='depthwise',\n",
       "              importance_type=None, interaction_constraints='',\n",
       "              learning_rate=0.02, max_bin=256, max_cat_to_onehot=4,\n",
       "              max_delta_step=0, max_depth=2, max_leaves=0, min_child_weight=1,\n",
       "              missing=nan, monotone_constraints='()', n_estimators=1000,\n",
       "              n_jobs=0, num_parallel_tree=1, predictor='auto', random_state=0,\n",
       "              reg_alpha=0, reg_lambda=1, ...)"
      ]
     },
     "execution_count": 15,
     "metadata": {},
     "output_type": "execute_result"
    }
   ],
   "source": [
    "model_xgboost_fin = xgboost.XGBClassifier(learning_rate=0.02,\n",
    "                                          max_depth=2,\n",
    "                                          n_estimators=1000,\n",
    "                                          subsample=0.5,\n",
    "                                          colsample_bytree=0.25,\n",
    "                                          eval_metric='auc',\n",
    "                                          verbosity=1,\n",
    "                                          use_label_encoder=False)\n",
    "\n",
    "# Passing both training and validation dataset as we want to plot AUC for both\n",
    "eval_set = [(X_train, y_train),(X_valid, y_valid)]\n",
    "\n",
    "model_xgboost_fin.fit(X_train,\n",
    "                  y_train,\n",
    "                  early_stopping_rounds=20,\n",
    "                  eval_set=eval_set,\n",
    "                  verbose=True)"
   ]
  },
  {
   "cell_type": "code",
   "execution_count": 16,
   "id": "fdb076a5",
   "metadata": {},
   "outputs": [
    {
     "name": "stdout",
     "output_type": "stream",
     "text": [
      "AUC Train: 0.9342\n",
      "AUC Valid: 0.9337\n"
     ]
    }
   ],
   "source": [
    "y_train_pred = model_xgboost_fin.predict_proba(X_train)[:,1]\n",
    "y_valid_pred = model_xgboost_fin.predict_proba(X_valid)[:,1]\n",
    "print(\"AUC Train: {:.4f}\\nAUC Valid: {:.4f}\".format(roc_auc_score(y_train, y_train_pred),\n",
    "                                                    roc_auc_score(y_valid, y_valid_pred)))"
   ]
  },
  {
   "cell_type": "code",
   "execution_count": 17,
   "id": "bee5c741",
   "metadata": {},
   "outputs": [
    {
     "data": {
      "text/plain": [
       "['./XGBOOST.joblib']"
      ]
     },
     "execution_count": 17,
     "metadata": {},
     "output_type": "execute_result"
    }
   ],
   "source": [
    "joblib.dump(model_xgboost_fin, \"./XGBOOST.joblib\", compress=True)"
   ]
  },
  {
   "cell_type": "code",
   "execution_count": null,
   "id": "2ffd1da8",
   "metadata": {},
   "outputs": [],
   "source": []
  }
 ],
 "metadata": {
  "kernelspec": {
   "display_name": "Python 3 (ipykernel)",
   "language": "python",
   "name": "python3"
  },
  "language_info": {
   "codemirror_mode": {
    "name": "ipython",
    "version": 3
   },
   "file_extension": ".py",
   "mimetype": "text/x-python",
   "name": "python",
   "nbconvert_exporter": "python",
   "pygments_lexer": "ipython3",
   "version": "3.10.7"
  }
 },
 "nbformat": 4,
 "nbformat_minor": 5
}
